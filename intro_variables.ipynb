{
  "nbformat": 4,
  "nbformat_minor": 0,
  "metadata": {
    "colab": {
      "provenance": [],
      "authorship_tag": "ABX9TyMd4yNkxilptfxSFSajwTh6",
      "include_colab_link": true
    },
    "kernelspec": {
      "name": "python3",
      "display_name": "Python 3"
    },
    "language_info": {
      "name": "python"
    }
  },
  "cells": [
    {
      "cell_type": "markdown",
      "metadata": {
        "id": "view-in-github",
        "colab_type": "text"
      },
      "source": [
        "<a href=\"https://colab.research.google.com/github/quescientia/python/blob/main/intro_variables.ipynb\" target=\"_parent\"><img src=\"https://colab.research.google.com/assets/colab-badge.svg\" alt=\"Open In Colab\"/></a>"
      ]
    },
    {
      "cell_type": "code",
      "execution_count": 23,
      "metadata": {
        "colab": {
          "base_uri": "https://localhost:8080/"
        },
        "id": "s9rcgWGLHmVv",
        "outputId": "8285e925-1238-4b9b-fbef-6fcda78d2f91"
      },
      "outputs": [
        {
          "output_type": "stream",
          "name": "stdout",
          "text": [
            "This is a number: 10\n"
          ]
        }
      ],
      "source": [
        "num = 10\n",
        "print(\"This is a number:\", num)"
      ]
    },
    {
      "cell_type": "code",
      "source": [
        "msg = \"Hello, Class\"\n",
        "print(\"This is a string:\", msg)"
      ],
      "metadata": {
        "colab": {
          "base_uri": "https://localhost:8080/"
        },
        "id": "7s4_Wm6OIDKP",
        "outputId": "5c5db4c7-0d07-43f2-c55b-56384fdff199"
      },
      "execution_count": 24,
      "outputs": [
        {
          "output_type": "stream",
          "name": "stdout",
          "text": [
            "This is a string: Hello, Class\n"
          ]
        }
      ]
    },
    {
      "cell_type": "code",
      "source": [
        "num = num + 1\n",
        "print(\"num is now: \", num)"
      ],
      "metadata": {
        "colab": {
          "base_uri": "https://localhost:8080/"
        },
        "id": "vFF2BHnVI8Jm",
        "outputId": "af84141a-8c78-461d-c9ba-ae2fb4b964d2"
      },
      "execution_count": 25,
      "outputs": [
        {
          "output_type": "stream",
          "name": "stdout",
          "text": [
            "num is now:  11\n"
          ]
        }
      ]
    },
    {
      "cell_type": "code",
      "source": [
        "msg = msg + \", How are you all\"\n",
        "print(\"msg is now: \", msg)"
      ],
      "metadata": {
        "colab": {
          "base_uri": "https://localhost:8080/"
        },
        "id": "IQlc5NtPJHmU",
        "outputId": "a7db5aef-41cd-42d1-9b76-a8039e9a2b1f"
      },
      "execution_count": 26,
      "outputs": [
        {
          "output_type": "stream",
          "name": "stdout",
          "text": [
            "msg is now:  Hello, Class, How are you all\n"
          ]
        }
      ]
    },
    {
      "cell_type": "code",
      "source": [],
      "metadata": {
        "id": "cljb0EaTJTTa"
      },
      "execution_count": null,
      "outputs": []
    }
  ]
}