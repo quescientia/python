{
  "nbformat": 4,
  "nbformat_minor": 0,
  "metadata": {
    "colab": {
      "provenance": [],
      "authorship_tag": "ABX9TyNj4QrmA2gUW97FkuqP5qNV",
      "include_colab_link": true
    },
    "kernelspec": {
      "name": "python3",
      "display_name": "Python 3"
    },
    "language_info": {
      "name": "python"
    }
  },
  "cells": [
    {
      "cell_type": "markdown",
      "metadata": {
        "id": "view-in-github",
        "colab_type": "text"
      },
      "source": [
        "<a href=\"https://colab.research.google.com/github/quescientia/python/blob/main/intro_variables.ipynb\" target=\"_parent\"><img src=\"https://colab.research.google.com/assets/colab-badge.svg\" alt=\"Open In Colab\"/></a>"
      ]
    },
    {
      "cell_type": "code",
      "execution_count": 27,
      "metadata": {
        "colab": {
          "base_uri": "https://localhost:8080/"
        },
        "id": "s9rcgWGLHmVv",
        "outputId": "f321b23a-cdc7-41d9-f706-520796b19360"
      },
      "outputs": [
        {
          "output_type": "stream",
          "name": "stdout",
          "text": [
            "This is a number: 10\n",
            "This is a string: Hello, Class\n",
            "num is now:  11\n",
            "msg is now:  Hello, Class, How are you all\n"
          ]
        }
      ],
      "source": [
        "num = 10\n",
        "print(\"This is a number:\", num)\n",
        "msg = \"Hello, Class\"\n",
        "print(\"This is a string:\", msg)\n",
        "num = num + 1\n",
        "print(\"num is now: \", num)\n",
        "msg = msg + \", How are you all\"\n",
        "print(\"msg is now: \", msg)"
      ]
    },
    {
      "cell_type": "code",
      "source": [],
      "metadata": {
        "id": "cljb0EaTJTTa"
      },
      "execution_count": null,
      "outputs": []
    }
  ]
}