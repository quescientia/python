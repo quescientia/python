{
  "cells": [
    {
      "cell_type": "markdown",
      "metadata": {
        "colab_type": "text",
        "id": "view-in-github"
      },
      "source": [
        "<a href=\"https://colab.research.google.com/github/quescientia/python/blob/main/intro_variables.ipynb\" target=\"_parent\"><img src=\"https://colab.research.google.com/assets/colab-badge.svg\" alt=\"Open In Colab\"/></a>"
      ]
    },
    {
      "cell_type": "markdown",
      "metadata": {},
      "source": [
        "## Introduction to Python\n",
        "  * Overview\n",
        "### 1. Variables\n",
        "  *   Numerical (Int, Float)\n",
        "  *   String\n",
        "  *   Getting user input and storing in variables\n",
        "### 2. Conditional Statements and loops\n",
        "  *   Variable types and typecasting\n",
        "  *   if\n",
        "  *   if -> else\n",
        "  *   if -> elif -> else\n",
        "  *   ***Simple Project 1:*** Print Multiplication table (without loops)\n",
        "### 3. Repetitive execution: Loops\n",
        "  *   For loop\n",
        "  *   While loop\n",
        "  *   ***Simple Project 2:*** Number guessing game\n",
        "  *   >Generate a random integer number between 1 to 100 (for example)   \n",
        "  *   >Start a loop\n",
        "  *   >Get user to input a number\n",
        "  *   >Use conditional statements to check if the number if high or low\n",
        "  *   >Provide a hint to the user based on the check\n",
        "  *   >Continue the loop until the number is guessed\n",
        "### 4. Lists\n",
        "  *   Convenient way to store multiple items\n",
        "  *   Useful for loops\n",
        "  *   ***Simple Project 3:*** Redo mult table using lists and loop\n",
        "### 5. More List Examples\n",
        "  *   ***Simple Project 4:*** Fun with words\n",
        "  *   >Create a list of adjectives, nouns, verbs and common words\n",
        "  *   >Randomly select each one and concatenate to form funny sentences\n",
        "### 6. Dots and Circles\n",
        "  *   Turtle graphics\n",
        "  *   Drawing shapes\n",
        "  *   Moving shapes\n",
        "  *   ***Simple Project 5:*** Game of darts\n"
      ]
    }
  ],
  "metadata": {
    "colab": {
      "authorship_tag": "ABX9TyMd4yNkxilptfxSFSajwTh6",
      "include_colab_link": true,
      "provenance": []
    },
    "kernelspec": {
      "display_name": "Python 3",
      "name": "python3"
    },
    "language_info": {
      "codemirror_mode": {
        "name": "ipython",
        "version": 3
      },
      "file_extension": ".py",
      "mimetype": "text/x-python",
      "name": "python",
      "nbconvert_exporter": "python",
      "pygments_lexer": "ipython3",
      "version": "3.12.1"
    }
  },
  "nbformat": 4,
  "nbformat_minor": 0
}
