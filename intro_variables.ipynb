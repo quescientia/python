{
  "nbformat": 4,
  "nbformat_minor": 0,
  "metadata": {
    "colab": {
      "provenance": [],
      "authorship_tag": "ABX9TyNj4QrmA2gUW97FkuqP5qNV",
      "include_colab_link": true
    },
    "kernelspec": {
      "name": "python3",
      "display_name": "Python 3"
    },
    "language_info": {
      "name": "python"
    }
  },
  "cells": [
    {
      "cell_type": "markdown",
      "metadata": {
        "colab_type": "text",
        "id": "view-in-github"
      },
      "source": [
        "<a href=\"https://colab.research.google.com/github/quescientia/python/blob/main/intro_variables.ipynb\" target=\"_parent\"><img src=\"https://colab.research.google.com/assets/colab-badge.svg\" alt=\"Open In Colab\"/></a>"
      ]
    },
    {
      "cell_type": "markdown",
      "metadata": {},
      "source": [
        "## Introduction to Python \n",
        "1. **Variables**\n",
        "  *   Numerical (Int, Float)\n",
        "  *   String\n",
        "  *   Getting user input and storing in variables\n",
        "2. **Conditional Statements and loops**\n",
        "  *   Variable types and typecasting\n",
        "  *   if\n",
        "  *   if -> else\n",
        "  *   if -> elif -> else\n",
        "  *   Simple Project 1: Print Multiplication table (without loops)\n",
        "3. **Repetitive execution: Loops**\n",
        "  *   For loop\n",
        "  *   While loop\n",
        "  *   Simple Project 2: Number guessing game\n",
        "  *   >Generate a random integer number between 1 to 100 (for example)   \n",
        "  *   >Start a loop\n",
        "  *   >Get user to input a number\n",
        "  *   >Use conditional statements to check if the number if high or low\n",
        "  *   >Provide a hint to the user based on the check\n",
        "  *   >Continue the loop until the number is guessed\n",
        "4. **Lists**\n",
        "  *   Convenient way to store multiple items\n",
        "  *   Useful for loops\n",
        "5. **Fun with adjectives, nouns and verbs using lists**\n",
        "  *   Create a list of adjectives, nouns, verbs and common words\n",
        "  *   Randomly select each one and concatenate to form funny sentences\n",
        "\n"
      ]
    },
    {
      "cell_type": "markdown",
      "metadata": {},
      "source": [
        "**1. Variables**"
      ]
    },
    {
      "cell_type": "code",
      "execution_count": null,
      "metadata": {
        "colab": {
          "base_uri": "https://localhost:8080/"
        },
        "id": "s9rcgWGLHmVv",
        "outputId": "f321b23a-cdc7-41d9-f706-520796b19360"
      },
      "outputs": [
        {
          "name": "stdout",
          "output_type": "stream",
          "text": [
            "This is a number: 10\n",
            "This is a string: Hello, Class\n",
            "num is now:  11\n",
            "msg is now:  Hello, Class, How are you all\n"
            "This is a number: 10\n",
            "This is a string: Hello, Class\n",
            "num is now:  11\n",
            "msg is now:  Hello, Class, How are you all\n"
          ]
        }
      ],
      "source": [
        "num = 10\n",
        "print(\"This is a number:\", num)\n",
        "msg = \"Hello, Class\"\n",
        "print(\"This is a string:\", msg)\n",
        "num = num + 1\n",
        "print(\"num is now: \", num)\n",
        "msg = msg + \", How are you all\"\n",
        "print(\"msg is now: \", msg)\n",
        "input()\n",
        "type()"
      ]
    },
    {
      "cell_type": "markdown",
      "metadata": {},
      "source": [
        "**2. Conditional Statements**"
      ]
    },
    {
      "cell_type": "code",
      "execution_count": 3,
      "metadata": {
        "id": "cljb0EaTJTTa"
      },
      "outputs": [
        {
          "name": "stdout",
          "output_type": "stream",
          "text": [
            "You entered:  5\n"
          ]
        }
      ],
      "source": [
        "num = input(\"Enter a number: \")\n",
        "print(\"You entered: \", num)"
      ]
    },
    {
      "cell_type": "markdown",
      "metadata": {},
      "source": [
        "**3. Number Guessing Game**"
      ]
    },
    {
      "cell_type": "code",
      "execution_count": 19,
      "metadata": {},
      "outputs": [
        {
          "name": "stdout",
          "output_type": "stream",
          "text": [
            "39\n"
          ]
        }
      ],
      "source": [
        "# to do\n",
        "import random\n",
        "num = random.randint(1,100)\n",
        "print(num)"
      ]
    },
    {
      "cell_type": "code",
      "execution_count": null,
      "metadata": {},
      "outputs": [],
      "source": []
    }
  ],
  "metadata": {
    "colab": {
      "authorship_tag": "ABX9TyMd4yNkxilptfxSFSajwTh6",
      "include_colab_link": true,
      "provenance": []
    },
    "kernelspec": {
      "display_name": "Python 3",
      "name": "python3"
    },
    "language_info": {
      "codemirror_mode": {
        "name": "ipython",
        "version": 3
      },
      "file_extension": ".py",
      "mimetype": "text/x-python",
      "name": "python",
      "nbconvert_exporter": "python",
      "pygments_lexer": "ipython3",
      "version": "3.12.1"
    }
  },
  "nbformat": 4,
  "nbformat_minor": 0
}
