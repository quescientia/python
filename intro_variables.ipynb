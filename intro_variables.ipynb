{
  "nbformat": 4,
  "nbformat_minor": 0,
  "metadata": {
    "colab": {
      "provenance": [],
      "authorship_tag": "ABX9TyMd4yNkxilptfxSFSajwTh6",
      "include_colab_link": true
    },
    "kernelspec": {
      "name": "python3",
      "display_name": "Python 3"
    },
    "language_info": {
      "name": "python"
    }
  },
  "cells": [
    {
      "cell_type": "markdown",
      "metadata": {
        "id": "view-in-github",
        "colab_type": "text"
      },
      "source": [
        "<a href=\"https://colab.research.google.com/github/quescientia/python/blob/main/intro_variables.ipynb\" target=\"_parent\"><img src=\"https://colab.research.google.com/assets/colab-badge.svg\" alt=\"Open In Colab\"/></a>"
      ]
    },
    {
      "cell_type": "code",
      "execution_count": 8,
      "metadata": {
        "colab": {
          "base_uri": "https://localhost:8080/"
        },
        "id": "s9rcgWGLHmVv",
        "outputId": "14816cb3-145d-498f-8598-3df87c25bdd2"
      },
      "outputs": [
        {
          "output_type": "stream",
          "name": "stdout",
          "text": [
            "This is a number: 10\n"
          ]
        }
      ],
      "source": [
        "num = 10\n",
        "print(\"This is a number:\", num)"
      ]
    },
    {
      "cell_type": "code",
      "source": [
        "msg = \"Hello, Class\"\n",
        "print(\"This is a string:\", msg)"
      ],
      "metadata": {
        "colab": {
          "base_uri": "https://localhost:8080/"
        },
        "id": "7s4_Wm6OIDKP",
        "outputId": "dd80da9c-43d4-47a0-b924-13a5dfd294b1"
      },
      "execution_count": 9,
      "outputs": [
        {
          "output_type": "stream",
          "name": "stdout",
          "text": [
            "This is a string: Hello, Class\n"
          ]
        }
      ]
    },
    {
      "cell_type": "code",
      "source": [
        "num = num + 1\n",
        "print(\"num is now: \", num)"
      ],
      "metadata": {
        "colab": {
          "base_uri": "https://localhost:8080/"
        },
        "id": "vFF2BHnVI8Jm",
        "outputId": "d7d3ffdc-6f79-45b7-f27e-a7adab426819"
      },
      "execution_count": 16,
      "outputs": [
        {
          "output_type": "stream",
          "name": "stdout",
          "text": [
            "num is now:  17\n"
          ]
        }
      ]
    },
    {
      "cell_type": "code",
      "source": [
        "msg = msg + \", How are you all\"\n",
        "print(\"msg is now: \", msg)"
      ],
      "metadata": {
        "colab": {
          "base_uri": "https://localhost:8080/"
        },
        "id": "IQlc5NtPJHmU",
        "outputId": "80387587-e6bb-44c9-844d-5d8c7a2bc9b3"
      },
      "execution_count": 22,
      "outputs": [
        {
          "output_type": "stream",
          "name": "stdout",
          "text": [
            "msg is now:  Hello, Class, How are you all, How are you all, How are you all, How are you all, How are you all, How are you all\n"
          ]
        }
      ]
    },
    {
      "cell_type": "code",
      "source": [],
      "metadata": {
        "id": "cljb0EaTJTTa"
      },
      "execution_count": null,
      "outputs": []
    }
  ]
}